{
  "nbformat": 4,
  "nbformat_minor": 0,
  "metadata": {
    "colab": {
      "provenance": [],
      "authorship_tag": "ABX9TyPl9oK5h6YCVNaXhjjscRJ7",
      "include_colab_link": true
    },
    "kernelspec": {
      "name": "python3",
      "display_name": "Python 3"
    },
    "language_info": {
      "name": "python"
    }
  },
  "cells": [
    {
      "cell_type": "markdown",
      "metadata": {
        "id": "view-in-github",
        "colab_type": "text"
      },
      "source": [
        "<a href=\"https://colab.research.google.com/github/guzamak/gradio_test/blob/main/gradio_test.ipynb\" target=\"_parent\"><img src=\"https://colab.research.google.com/assets/colab-badge.svg\" alt=\"Open In Colab\"/></a>"
      ]
    },
    {
      "cell_type": "code",
      "execution_count": null,
      "metadata": {
        "id": "XssvjtXp_Z8j"
      },
      "outputs": [],
      "source": [
        "! pip install gradio\n",
        "! pip install transformers"
      ]
    },
    {
      "cell_type": "code",
      "source": [
        "import gradio as gr"
      ],
      "metadata": {
        "id": "8g6ImwwM_o1r"
      },
      "execution_count": 9,
      "outputs": []
    },
    {
      "cell_type": "code",
      "source": [
        "def hello_world(name):\n",
        "  return \"hello\" + name"
      ],
      "metadata": {
        "id": "owm6k1q9_rRb"
      },
      "execution_count": 8,
      "outputs": []
    },
    {
      "cell_type": "code",
      "source": [
        "interface = gr.Interface(fn = hello_world\n",
        "                        ,inputs = \"textbox\"\n",
        "                        ,outputs = \"text\")"
      ],
      "metadata": {
        "id": "v8Qb_QOH_rLD"
      },
      "execution_count": 14,
      "outputs": []
    },
    {
      "cell_type": "code",
      "source": [
        "def image_classifier(inp):\n",
        "    return {'cat': 0.3, 'dog': 0.7}\n",
        "\n",
        "interface = gr.Interface(fn=image_classifier, inputs=\"image\", outputs=\"label\")"
      ],
      "metadata": {
        "id": "HX6RCD7OHT7M"
      },
      "execution_count": 16,
      "outputs": []
    },
    {
      "cell_type": "code",
      "source": [
        "interface.launch()"
      ],
      "metadata": {
        "id": "8P7MmqBNCdFg"
      },
      "execution_count": null,
      "outputs": []
    },
    {
      "cell_type": "markdown",
      "source": [
        "###Try bmi"
      ],
      "metadata": {
        "id": "ARFpgxt7JWO8"
      }
    },
    {
      "cell_type": "code",
      "source": [
        "import gradio as gr"
      ],
      "metadata": {
        "id": "2OcBt7NVIQhy"
      },
      "execution_count": 18,
      "outputs": []
    },
    {
      "cell_type": "code",
      "source": [
        "def bmi_cal(name,height,weight):\n",
        "  bmi = weight / (height**2)\n",
        "  return (\"Hello \" + name ,\" bmi \" + str(bmi))"
      ],
      "metadata": {
        "id": "1F2zO3fIIaaA"
      },
      "execution_count": 38,
      "outputs": []
    },
    {
      "cell_type": "code",
      "source": [
        "interface = gr.Interface(fn=bmi_cal,inputs=[\"textbox\",gr.Slider(1, 200, value=50),gr.Slider(1, 200, value=50)],outputs=[\"text\",\"text\"],live=True)"
      ],
      "metadata": {
        "id": "CAP2H8iwI2-5"
      },
      "execution_count": null,
      "outputs": []
    },
    {
      "cell_type": "code",
      "source": [
        "# interface.launch(debug=True)\n",
        "interface.launch()"
      ],
      "metadata": {
        "id": "HuOATK6GJfau"
      },
      "execution_count": null,
      "outputs": []
    },
    {
      "cell_type": "code",
      "source": [
        "interface.close()"
      ],
      "metadata": {
        "id": "l44OhXvgOLlB"
      },
      "execution_count": null,
      "outputs": []
    },
    {
      "cell_type": "code",
      "source": [
        "interface.launch(auth=(\"user\",\"password\"))"
      ],
      "metadata": {
        "id": "9-g3hKB5N-sN"
      },
      "execution_count": null,
      "outputs": []
    },
    {
      "cell_type": "markdown",
      "source": [
        "#Flag"
      ],
      "metadata": {
        "id": "IlUlDEMSLE9u"
      }
    },
    {
      "cell_type": "code",
      "source": [
        "import pandas as pd"
      ],
      "metadata": {
        "id": "0LJupI1sLEgn"
      },
      "execution_count": 33,
      "outputs": []
    },
    {
      "cell_type": "code",
      "source": [
        "pd.read_csv(\"/content/flagged/log.csv\")"
      ],
      "metadata": {
        "id": "2NWnMBwhLNyp"
      },
      "execution_count": null,
      "outputs": []
    },
    {
      "cell_type": "markdown",
      "source": [
        "### Use with huggleface"
      ],
      "metadata": {
        "id": "N2Pc10uUPIFI"
      }
    },
    {
      "cell_type": "code",
      "source": [
        "from transformers import pipeline"
      ],
      "metadata": {
        "id": "Gp7cppvZOjCq"
      },
      "execution_count": 54,
      "outputs": []
    },
    {
      "cell_type": "code",
      "source": [
        "sentiment = pipeline(\"sentiment-analysis\")"
      ],
      "metadata": {
        "id": "OPUWlMbAPlGj"
      },
      "execution_count": null,
      "outputs": []
    },
    {
      "cell_type": "code",
      "source": [
        "def get_sentiment(txt):\n",
        "  return sentiment(txt)"
      ],
      "metadata": {
        "id": "IaS9ktT1PlAD"
      },
      "execution_count": 56,
      "outputs": []
    },
    {
      "cell_type": "code",
      "source": [
        "interface = gr.Interface(fn=get_sentiment,inputs=\"textbox\",outputs=\"text\")"
      ],
      "metadata": {
        "id": "LPg3uvS5QHwx"
      },
      "execution_count": 57,
      "outputs": []
    },
    {
      "cell_type": "code",
      "source": [
        "interface.launch()"
      ],
      "metadata": {
        "colab": {
          "base_uri": "https://localhost:8080/",
          "height": 626
        },
        "id": "kqAM-hsvQNqq",
        "outputId": "de89044d-a57f-4d1e-a961-4e8363b12751"
      },
      "execution_count": 58,
      "outputs": [
        {
          "output_type": "stream",
          "name": "stdout",
          "text": [
            "Setting queue=True in a Colab notebook requires sharing enabled. Setting `share=True` (you can turn this off by setting `share=False` in `launch()` explicitly).\n",
            "\n",
            "Colab notebook detected. To show errors in colab notebook, set debug=True in launch()\n",
            "Running on public URL: https://2774c4b9e6abe27080.gradio.live\n",
            "\n",
            "This share link expires in 72 hours. For free permanent hosting and GPU upgrades, run `gradio deploy` from Terminal to deploy to Spaces (https://huggingface.co/spaces)\n"
          ]
        },
        {
          "output_type": "display_data",
          "data": {
            "text/plain": [
              "<IPython.core.display.HTML object>"
            ],
            "text/html": [
              "<div><iframe src=\"https://2774c4b9e6abe27080.gradio.live\" width=\"100%\" height=\"500\" allow=\"autoplay; camera; microphone; clipboard-read; clipboard-write;\" frameborder=\"0\" allowfullscreen></iframe></div>"
            ]
          },
          "metadata": {}
        },
        {
          "output_type": "execute_result",
          "data": {
            "text/plain": []
          },
          "metadata": {},
          "execution_count": 58
        }
      ]
    }
  ]
}